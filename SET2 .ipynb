{
 "cells": [
  {
   "cell_type": "code",
   "execution_count": 2,
   "id": "b3f16341",
   "metadata": {},
   "outputs": [],
   "source": [
    "import pandas as pd\n",
    "import scipy.stats as stats\n"
   ]
  },
  {
   "cell_type": "markdown",
   "id": "79e979e5",
   "metadata": {},
   "source": [
    "Topics: Normal distribution, Functions of Random Variables\n",
    "\n",
    "1.\tThe time required for servicing transmissions is normally distributed with  = 45 minutes and  = 8 minutes. The service manager plans to have work begin on the transmission of a customer’s car 10 minutes after the car is dropped off and the customer is told that the car will be ready within 1 hour from drop-off. What is the probability that the service manager cannot meet his commitment? \n",
    "\n",
    "A.\t0.3875   \n",
    "B.\t0.2676   \n",
    "C.\t0.5   \n",
    "D.\t0.6987 \n"
   ]
  },
  {
   "cell_type": "code",
   "execution_count": 4,
   "id": "a1b27610",
   "metadata": {},
   "outputs": [
    {
     "data": {
      "text/plain": [
       "0.26598552904870054"
      ]
     },
     "execution_count": 4,
     "metadata": {},
     "output_type": "execute_result"
    }
   ],
   "source": [
    "mew = 55 \n",
    "std = 8\n",
    "q1 = 1-stats.norm.cdf(60, loc = mew, scale = std) \n",
    "q1"
   ]
  },
  {
   "cell_type": "markdown",
   "id": "9c2e5674",
   "metadata": {},
   "source": [
    "\n"
   ]
  },
  {
   "cell_type": "code",
   "execution_count": 5,
   "id": "5fe84d18",
   "metadata": {},
   "outputs": [
    {
     "name": "stdout",
     "output_type": "stream",
     "text": [
      "The values a and b are: 48.48 and 151.52\n"
     ]
    }
   ],
   "source": [
    "# Given parameters\n",
    "mu = 100\n",
    "sigma = 20\n",
    "\n",
    "# Calculate the z-score for 0.995 probability\n",
    "z_score = stats.norm.ppf(0.995)\n",
    "\n",
    "# Calculate the values of a and b\n",
    "a = mu - z_score * sigma\n",
    "b = mu + z_score * sigma\n",
    "\n",
    "print(f\"The values a and b are: {a:.2f} and {b:.2f}\")\n"
   ]
  },
  {
   "cell_type": "code",
   "execution_count": 7,
   "id": "eb820339",
   "metadata": {},
   "outputs": [
    {
     "name": "stdout",
     "output_type": "stream",
     "text": [
      "A. Profit1 Rupee Range: (-39.59513791290732, 489.5951379129073) million\n",
      "   Profit2 Rupee Range: (-37.79351721720974, 667.7935172172097) million\n",
      "B. 5th Percentile of Profit1: 2.9447603615511753 million\n",
      "   5th Percentile of Profit2: 18.926347148734862 million\n",
      "C. Probability of Loss for Profit1: 0.0477903522728147\n",
      "   Probability of Loss for Profit2: 0.040059156863817086\n"
     ]
    }
   ],
   "source": [
    "# Conversion rate from dollars to rupees\n",
    "conversion_rate = 45\n",
    "\n",
    "# Mean and standard deviation of Profit1 in rupees\n",
    "mean_profit1R = 5 * conversion_rate\n",
    "std_dev_p1R = 3 * conversion_rate\n",
    "\n",
    "# Mean and standard deviation of Profit2 in rupees\n",
    "mean_profit2R = 7 * conversion_rate\n",
    "std_dev_p2R = 4 * conversion_rate\n",
    "\n",
    "# A. Rupee range containing 95% probability for annual profit\n",
    "range_profit1 = stats.norm.interval(0.95, mean_profit1R, std_dev_p1R)\n",
    "range_profit2 = stats.norm.interval(0.95, mean_profit2R, std_dev_p2R)\n",
    "\n",
    "print(f\"A. Profit1 Rupee Range: {range_profit1} million\")\n",
    "print(f\"   Profit2 Rupee Range: {range_profit2} million\")\n",
    "\n",
    "# B. 5th percentile of profit in rupees\n",
    "percentile_5_profit1 = stats.norm.ppf(0.05, mean_profit1R, std_dev_p1R)\n",
    "percentile_5_profit2 = stats.norm.ppf(0.05, mean_profit2R, std_dev_p2R)\n",
    "\n",
    "print(f\"B. 5th Percentile of Profit1: {percentile_5_profit1} million\")\n",
    "print(f\"   5th Percentile of Profit2: {percentile_5_profit2} million\")\n",
    "\n",
    "# C. Probability of making a loss (profit less than 0)\n",
    "prob_loss_profit1 = stats.norm.cdf(0, mean_profit1R, std_dev_p1R)\n",
    "prob_loss_profit2 = stats.norm.cdf(0, mean_profit2R, std_dev_p2R)\n",
    "\n",
    "print(f\"C. Probability of Loss for Profit1: {prob_loss_profit1}\")\n",
    "print(f\"   Probability of Loss for Profit2: {prob_loss_profit2}\")\n"
   ]
  },
  {
   "cell_type": "code",
   "execution_count": null,
   "id": "f733ea75",
   "metadata": {},
   "outputs": [],
   "source": []
  }
 ],
 "metadata": {
  "kernelspec": {
   "display_name": "Python 3 (ipykernel)",
   "language": "python",
   "name": "python3"
  },
  "language_info": {
   "codemirror_mode": {
    "name": "ipython",
    "version": 3
   },
   "file_extension": ".py",
   "mimetype": "text/x-python",
   "name": "python",
   "nbconvert_exporter": "python",
   "pygments_lexer": "ipython3",
   "version": "3.11.5"
  }
 },
 "nbformat": 4,
 "nbformat_minor": 5
}
