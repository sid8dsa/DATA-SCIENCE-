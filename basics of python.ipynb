{
 "cells": [
  {
   "cell_type": "markdown",
   "id": "c704de5a",
   "metadata": {},
   "source": [
    "Exercise 1: Prime Numbers\n",
    "Write a Python program that checks whether a given number is prime or not. A prime number is a natural number greater than 1 that has no positive divisors other than 1 and itself\n"
   ]
  },
  {
   "cell_type": "code",
   "execution_count": 3,
   "id": "03378765",
   "metadata": {},
   "outputs": [
    {
     "name": "stdout",
     "output_type": "stream",
     "text": [
      "Enter a number: 1\n",
      "1 is not a prime number\n"
     ]
    }
   ],
   "source": [
    "def is_prime(number):\n",
    "    # Prime numbers are greater than 1\n",
    "    if number <= 1:\n",
    "        return False\n",
    "    \n",
    "    # Check for divisors from 2 to the square root of the number\n",
    "    for divisor in range(2, int(number**0.5) + 1):\n",
    "        if number % divisor == 0:\n",
    "            return False\n",
    "    \n",
    "    return True\n",
    "\n",
    "# Get user input for the number\n",
    "num = int(input(\"Enter a number: \"))\n",
    "\n",
    "# Check if the number is prime\n",
    "if is_prime(num):\n",
    "    print(f\"{num} is a prime number\")\n",
    "else:\n",
    "    print(f\"{num} is not a prime number\")\n",
    "\n"
   ]
  },
  {
   "cell_type": "markdown",
   "id": "1efb2a07",
   "metadata": {},
   "source": [
    "Exercise 2: Product of Random Numbers\n",
    "Develop a Python program that generates two random numbers and asks the user to enter the product of these numbers. The program should then check if the user's answer is correct and display an appropriate message.\n"
   ]
  },
  {
   "cell_type": "code",
   "execution_count": 4,
   "id": "a836552f",
   "metadata": {},
   "outputs": [
    {
     "name": "stdout",
     "output_type": "stream",
     "text": [
      "What is the product of 1 and 5? 5\n",
      "Congratulations! Your answer is correct.\n"
     ]
    }
   ],
   "source": [
    "import random\n",
    "\n",
    "def generate_random_numbers():\n",
    "    num1 = random.randint(1, 10)  # Generates a random number between 1 and 10\n",
    "    num2 = random.randint(1, 10)  # Generates another random number between 1 and 10\n",
    "    return num1, num2\n",
    "\n",
    "def main():\n",
    "    num1, num2 = generate_random_numbers()\n",
    "    product = num1 * num2\n",
    "    \n",
    "    user_answer = int(input(f\"What is the product of {num1} and {num2}? \"))\n",
    "    \n",
    "    if user_answer == product:\n",
    "        print(\"Congratulations! Your answer is correct.\")\n",
    "    else:\n",
    "        print(f\"Sorry, the correct answer is {product}.\")\n",
    "\n",
    "if __name__ == \"__main__\":\n",
    "    main()\n"
   ]
  },
  {
   "cell_type": "markdown",
   "id": "b540afd8",
   "metadata": {},
   "source": [
    "Exercise 3: Squares of Even/Odd Numbers\n",
    "Create a Python script that prints the squares of all even or odd numbers within the range of 100 to 200. Choose either even or odd numbers and document your choice in the code.\n"
   ]
  },
  {
   "cell_type": "code",
   "execution_count": 21,
   "id": "f7c21141",
   "metadata": {},
   "outputs": [
    {
     "name": "stdout",
     "output_type": "stream",
     "text": [
      "write E for even numbers and O for odd numbers  :O\n",
      "Squares of Odd Numbers in the Range 100 to 200:\n",
      "101 squared is ,10201\n",
      "103 squared is ,10609\n",
      "105 squared is ,11025\n",
      "107 squared is ,11449\n",
      "109 squared is ,11881\n",
      "111 squared is ,12321\n",
      "113 squared is ,12769\n",
      "115 squared is ,13225\n",
      "117 squared is ,13689\n",
      "119 squared is ,14161\n",
      "121 squared is ,14641\n",
      "123 squared is ,15129\n",
      "125 squared is ,15625\n",
      "127 squared is ,16129\n",
      "129 squared is ,16641\n",
      "131 squared is ,17161\n",
      "133 squared is ,17689\n",
      "135 squared is ,18225\n",
      "137 squared is ,18769\n",
      "139 squared is ,19321\n",
      "141 squared is ,19881\n",
      "143 squared is ,20449\n",
      "145 squared is ,21025\n",
      "147 squared is ,21609\n",
      "149 squared is ,22201\n",
      "151 squared is ,22801\n",
      "153 squared is ,23409\n",
      "155 squared is ,24025\n",
      "157 squared is ,24649\n",
      "159 squared is ,25281\n",
      "161 squared is ,25921\n",
      "163 squared is ,26569\n",
      "165 squared is ,27225\n",
      "167 squared is ,27889\n",
      "169 squared is ,28561\n",
      "171 squared is ,29241\n",
      "173 squared is ,29929\n",
      "175 squared is ,30625\n",
      "177 squared is ,31329\n",
      "179 squared is ,32041\n",
      "181 squared is ,32761\n",
      "183 squared is ,33489\n",
      "185 squared is ,34225\n",
      "187 squared is ,34969\n",
      "189 squared is ,35721\n",
      "191 squared is ,36481\n",
      "193 squared is ,37249\n",
      "195 squared is ,38025\n",
      "197 squared is ,38809\n",
      "199 squared is ,39601\n"
     ]
    }
   ],
   "source": [
    "# Print the squares of all even numbers within the range of 100 to 200\n",
    "# We choose even numbers for this exercise\n",
    "a= str(input(\"write E for even numbers and O for odd numbers  :\"))\n",
    "if a== \"E\" :\n",
    "    print(\"Squares of Even Numbers from 100 to 200:\")\n",
    "    for num in range(100, 201):\n",
    "        if num % 2 == 0:\n",
    "            square = num ** 2\n",
    "        print(f\"{num} squared is {square}\")\n",
    "else :\n",
    " # Choice: Print squares of odd numbers within the range of 100 to 200\n",
    "    print(\"Squares of Odd Numbers in the Range 100 to 200:\")\n",
    "for num in range(101, 200, 2):  # Start from 101 to include the first odd number, step by 2 for odd numbers only\n",
    "    print(F\"{num} squared is ,{num**2}\")\n"
   ]
  },
  {
   "cell_type": "markdown",
   "id": "0ae18053",
   "metadata": {},
   "source": [
    "Exercise 4: Word counter\n",
    "write a program to count the number of words in a given text.\n",
    "example:\n",
    "input_text = \"This is a sample text. This text will be used to demonstrate the word counter.\"\n",
    "Expected output:\n",
    "'This': 2 \n",
    "'is': 1\n",
    "'a': 1\n",
    "'sample': 1\n",
    "'text.': 1\n"
   ]
  },
  {
   "cell_type": "code",
   "execution_count": 22,
   "id": "fa74b6d6",
   "metadata": {},
   "outputs": [
    {
     "name": "stdout",
     "output_type": "stream",
     "text": [
      "'this': 2\n",
      "'is': 1\n",
      "'a': 1\n",
      "'sample': 1\n",
      "'text': 2\n",
      "'will': 1\n",
      "'be': 1\n",
      "'used': 1\n",
      "'to': 1\n",
      "'demonstrate': 1\n",
      "'the': 1\n",
      "'word': 1\n",
      "'counter': 1\n"
     ]
    }
   ],
   "source": [
    "def count_words(input_text):\n",
    "    # Split the text into words\n",
    "    words = input_text.split()\n",
    "\n",
    "    # Create a dictionary to store word counts\n",
    "    word_counts = {}\n",
    "    for word in words:\n",
    "        # Remove punctuation from the word\n",
    "        cleaned_word = word.strip(\".,!?\")\n",
    "        # Convert the word to lowercase for case-insensitive counting\n",
    "        cleaned_word = cleaned_word.lower()\n",
    "        # Increment the count for the word in the dictionary\n",
    "        word_counts[cleaned_word] = word_counts.get(cleaned_word, 0) + 1\n",
    "\n",
    "    return word_counts\n",
    "\n",
    "input_text = \"This is a sample text. This text will be used to demonstrate the word counter.\"\n",
    "word_counts = count_words(input_text)\n",
    "\n",
    "# Print the word counts\n",
    "for word, count in word_counts.items():\n",
    "    print(f\"'{word}': {count}\")\n"
   ]
  },
  {
   "cell_type": "markdown",
   "id": "80aec795",
   "metadata": {},
   "source": [
    "Exercise 5: Check for Palindrome\n",
    "Write a Python function called is_palindrome that takes a string as input and returns True if the string is a palindrome, and False otherwise. A palindrome is a word, phrase, number, or other sequence of characters that reads the same forward and backward, ignoring spaces, punctuation, and capitalization.\n",
    "Example:\n",
    "Input: \"racecar\"\n",
    "Expected Output: True\n"
   ]
  },
  {
   "cell_type": "code",
   "execution_count": 32,
   "id": "2f420d3d",
   "metadata": {},
   "outputs": [
    {
     "name": "stdout",
     "output_type": "stream",
     "text": [
      "Enter your input :ldsdff\n",
      "given input is not a palindrome\n"
     ]
    }
   ],
   "source": [
    "def is_palindrome(input_str):\n",
    "    # Remove spaces, punctuation, and convert to lowercase\n",
    "    cleaned_str = ''.join(char.lower() for char in input_str if char.isalnum())\n",
    "    # Check if the cleaned string is equal to its reverse\n",
    "    return cleaned_str == cleaned_str[::-1]\n",
    "\n",
    "input_str = str(input(\"Enter your input :\"))\n",
    "result = is_palindrome(input_str)\n",
    "if result ==True :\n",
    "    \n",
    "    print('the given input is a palindrome')\n",
    "else:\n",
    "    print('given input is not a palindrome')\n"
   ]
  },
  {
   "cell_type": "code",
   "execution_count": null,
   "id": "bdbc7d3b",
   "metadata": {},
   "outputs": [],
   "source": []
  }
 ],
 "metadata": {
  "kernelspec": {
   "display_name": "Python 3 (ipykernel)",
   "language": "python",
   "name": "python3"
  },
  "language_info": {
   "codemirror_mode": {
    "name": "ipython",
    "version": 3
   },
   "file_extension": ".py",
   "mimetype": "text/x-python",
   "name": "python",
   "nbconvert_exporter": "python",
   "pygments_lexer": "ipython3",
   "version": "3.11.5"
  }
 },
 "nbformat": 4,
 "nbformat_minor": 5
}
